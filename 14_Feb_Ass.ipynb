{
 "cells": [
  {
   "cell_type": "code",
   "execution_count": 3,
   "id": "339ebb52-e134-4d96-98dd-251a2f159f15",
   "metadata": {},
   "outputs": [],
   "source": [
    "                   Assignment-14_feb(Multithreading)"
   ]
  },
  {
   "cell_type": "code",
   "execution_count": null,
   "id": "7a8e3974-9de7-4941-b14c-a7c6fee7b248",
   "metadata": {},
   "outputs": [],
   "source": [
    "Q1.what is multithreading in python?why is it used?Name the module to handele thread in python?\n",
    "ans->he ability of a processor to execute multiple threads simultaneously is known as\n",
    "    multithreading. Python multithreading facilitates sharing data space and resources of multiple \n",
    "    threads with the main thread. It allows efficient and easy communication between the threads.\n",
    "    module threading is used to handle thread in python"
   ]
  },
  {
   "cell_type": "code",
   "execution_count": null,
   "id": "81e4f122-694b-4e64-8bf3-a23ad5a57fcd",
   "metadata": {},
   "outputs": [],
   "source": [
    "Q2.why threading module used ?write the use of the following functions:\n",
    "    1.activeCount()\n",
    "    2.currentThread()\n",
    "    3.enumerate()\n",
    "\n",
    "ans-> Multithreaded programs can run faster on computer systems with multiple CPUs,\n",
    "      because theses threads can be executed truly concurrent. \n",
    "      A program can remain responsive to input. This is true both on single and on\n",
    "      multiple CPU.\n",
    "    1.activeCount()->Returns the number of thread objects that are active.\n",
    "                     threading. currentThread() − \n",
    "                    Returns the number of thread objects in the caller's thread control.\n",
    "    2.currentThread()->Returns the number of thread objects in the caller's thread control.\n",
    "                    threading. enumerate() − Returns a list of all thread objects that are\n",
    "                    ccurrently active.\n",
    "    3.enumerate()-> Enumerate() method adds a counter to an iterable and returns it in a form of\n",
    "                   enumerating object. This enumerated object can then be used directly for loops\n",
    "                  or converted into a list of tuples using the list() function."
   ]
  },
  {
   "cell_type": "code",
   "execution_count": null,
   "id": "c0037b08-2edd-43ca-94b5-576937a8b6a3",
   "metadata": {},
   "outputs": [],
   "source": [
    "Q3.Explain the following functions:\n",
    "  1.run()->executes any target function belonging to a given thread object that is now active. \n",
    "           It normally executes in the background after the . start() method is invoked\n",
    "  \n",
    "  2.start()->start() method is an inbuilt method of the Thread class of the threading module,\n",
    "              it is used to start a thread's activity\n",
    "  \n",
    "  3.join()->takes all the elements of an iterable and joins them into a single string.\n",
    "            It will return the joined string.You have to specify a string separator that\n",
    "             will be used to separate the concatenated string\n",
    "\n",
    "  \n",
    "  4.isAlive->, it is used to check whether that thread is alive or not, ie, it is still running\n",
    "             or not. This method returns True before the run() starts until just after the run()\n",
    "             method is executed."
   ]
  },
  {
   "cell_type": "code",
   "execution_count": 1,
   "id": "d3b8f1c2-3c94-479f-be2d-4b3e31df0bbb",
   "metadata": {},
   "outputs": [],
   "source": [
    "Q4.write a python programm to create two thread.thread one must print the list of square\n",
    "   and thread two must print the list of cubes"
   ]
  },
  {
   "cell_type": "code",
   "execution_count": 5,
   "id": "b41747e6-c94e-4a79-b070-99d469f36228",
   "metadata": {},
   "outputs": [
    {
     "name": "stdout",
     "output_type": "stream",
     "text": [
      "square of %d is=%d 2 4\n",
      "square of %d is=%d 3 9\n",
      "square of %d is=%d 4 16\n",
      "square of %d is=%d 5 25\n",
      "\n",
      "\n",
      "cube of %d is=%d 2 8\n",
      "cube of %d is=%d 3 27\n",
      "cube of %d is=%d 4 64\n",
      "cube of %d is=%d 5 125\n"
     ]
    }
   ],
   "source": [
    "import threading\n",
    "lst=[2,3,4,5]\n",
    "def fun(id,mul):\n",
    "    if mul==\"square\":\n",
    "        print(\"square of %d is=%d\",id,id**2)\n",
    "    else:\n",
    "        print(\"cube of %d is=%d\",id,id**3)\n",
    "thread1=[threading.Thread(target=fun,args=(lst[i],\"square\"))for i in range(len(lst))]\n",
    "thread2=[threading.Thread(target=fun,args=(lst[i],\"cube\"))for i in range(len(lst))]\n",
    "for i in thread1:\n",
    "    i.start()\n",
    "print(\"\\n\")\n",
    "for j in thread2:\n",
    "    j.start()"
   ]
  },
  {
   "cell_type": "code",
   "execution_count": null,
   "id": "07a559fc-d29c-40ae-9798-585ade1b64c3",
   "metadata": {},
   "outputs": [],
   "source": [
    "Q5.state advantage and disadvantage of multithreading?\n",
    "ans->This model provides more concurrency than the many-to-one model.\n",
    "     It also allows another thread to run when a thread makes a blocking system call. \n",
    "     It supports multiple threads to execute in parallel on microprocessors. \n",
    "     Disadvantage of this model is that creating user thread requires the corresponding \n",
    "     Kernel thread."
   ]
  },
  {
   "cell_type": "code",
   "execution_count": null,
   "id": "c5510c71-2d8d-40d5-aeb1-eae0534e7415",
   "metadata": {},
   "outputs": [],
   "source": [
    "Q6.Explain deadlocks and race condition.\n",
    "ans-.A race condition occurs when two threads use the same variable at a given time.\n",
    "     Deadlock exists when two threads seek one lock simultaneously.\n",
    "     This situation will stop both threads from processing or executing the functions."
   ]
  }
 ],
 "metadata": {
  "kernelspec": {
   "display_name": "Python 3 (ipykernel)",
   "language": "python",
   "name": "python3"
  },
  "language_info": {
   "codemirror_mode": {
    "name": "ipython",
    "version": 3
   },
   "file_extension": ".py",
   "mimetype": "text/x-python",
   "name": "python",
   "nbconvert_exporter": "python",
   "pygments_lexer": "ipython3",
   "version": "3.10.8"
  }
 },
 "nbformat": 4,
 "nbformat_minor": 5
}
